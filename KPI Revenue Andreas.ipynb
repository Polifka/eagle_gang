{
 "cells": [
  {
   "cell_type": "markdown",
   "metadata": {},
   "source": [
    "# KPI Revenue"
   ]
  },
  {
   "cell_type": "markdown",
   "metadata": {},
   "source": [
    "## Libraries"
   ]
  },
  {
   "cell_type": "code",
   "execution_count": 1,
   "metadata": {},
   "outputs": [],
   "source": [
    "# importing all relevant libraries\n",
    "\n",
    "import pandas as pd\n",
    "import matplotlib.pyplot as plt\n",
    "import seaborn as sns\n",
    "import math\n",
    "from datetime import datetime, timedelta\n",
    "from matplotlib.dates import date2num"
   ]
  },
  {
   "cell_type": "markdown",
   "metadata": {},
   "source": [
    "## Styles"
   ]
  },
  {
   "cell_type": "code",
   "execution_count": 15,
   "metadata": {},
   "outputs": [],
   "source": [
    "# set seaborn styles\n",
    "sns.set()\n",
    "sns.set_style(\"whitegrid\")\n",
    "sns.set_palette(\"rocket\")\n",
    "\n",
    "# set pandas display styles\n",
    "pd.set_option('display.max_columns', 20)\n",
    "pd.set_option('display.width', 2000)"
   ]
  },
  {
   "cell_type": "markdown",
   "metadata": {},
   "source": [
    "## Data reading"
   ]
  },
  {
   "cell_type": "code",
   "execution_count": 16,
   "metadata": {},
   "outputs": [],
   "source": [
    "def read_data(city_name):\n",
    "    trip_data = pd.read_csv(\"Project_Data/Combined_Data/\"+city_name+\".csv\", encoding = \"ISO-8859-1\")\n",
    "    trip_data[\"trip_duration\"] = pd.to_timedelta(trip_data[\"trip_duration\"])\n",
    "    trip_data[\"datetime_start\"] = pd.to_datetime(trip_data[\"datetime_start\"])\n",
    "    trip_data[\"datetime_end\"] = pd.to_datetime(trip_data[\"datetime_end\"])\n",
    "    return trip_data"
   ]
  },
  {
   "cell_type": "markdown",
   "metadata": {},
   "source": [
    "## KPI generation"
   ]
  },
  {
   "cell_type": "markdown",
   "metadata": {},
   "source": [
    "### Read in data"
   ]
  },
  {
   "cell_type": "code",
   "execution_count": 106,
   "metadata": {},
   "outputs": [],
   "source": [
    "#\n",
    "# TASK: CALCULATE REVENUE PER BIKE FOR BOTH CITIES BREMEN AND DÜSSELDORF\n",
    "#       CALCULATE KPI HOURLY, VISUALIZE OVER TIME (DAY, WEEK, MONTH)\n",
    "#\n",
    "\n",
    "def generate_revenue_per_hour_for_city(data, city, start_date, end_date):\n",
    "    '''\n",
    "    Generates plots of revenue per hour, summed, and revenue per hour, on average,\n",
    "    for a given city and time frame. For each city 4 plots are generated, 2 of those scatter plots\n",
    "    and 2 line plots, plotting both KPI's, respectively.\n",
    "\n",
    "    :param city: a city in string format, e.g. \"Bremen\" or \"Duesseldorf\"\n",
    "    :param start_date: an iso format time string, e.g. \"2019-03-28 12:00:00\"\n",
    "    :param end_date: an iso format time string, e.g. \"2019-03-31 12:00:00\"\n",
    "    '''\n",
    "\n",
    "    # sorting and key stats of data\n",
    "    dat = data.sort_values(by=['datetime_start'], axis=0)\n",
    "\n",
    "    def calc_revenue(x):\n",
    "        if (x % pd.Timedelta(minutes=30)) > pd.Timedelta(minutes=0):\n",
    "            return float(math.floor(x / pd.Timedelta(minutes=30) + 1))\n",
    "        else:\n",
    "            return float(math.floor(x / pd.Timedelta(minutes=30)))\n",
    "                              \n",
    "    # count trip duration intervals for each trip, i.e. how much revenue each trip generated,\n",
    "    # by setting the revenue to 1 plus the number of 30-minute durations fitting into the trip duration\n",
    "    dat[\"revenue_per_trip\"] = dat[\"trip_duration\"].apply(lambda x: calc_revenue(x))\n",
    "\n",
    "    # SET TIME WINDOW FOR HOURLY GROUPING OF VALUES\n",
    "    startDate = datetime.fromisoformat(start_date)\n",
    "    endDate = datetime.fromisoformat(end_date)\n",
    "\n",
    "    # select rows in the given time window\n",
    "    mask = (dat[\"datetime_start\"] > startDate) & (dat[\"datetime_start\"] <= endDate)\n",
    "    dat_time_framed = dat.loc[mask]\n",
    "\n",
    "    # Group data in the given time window by hours and aggregate the revenue per trip:\n",
    "    # as sum over all rented bikes in a specific hour, and as average over all rented bikes in a specific hour\n",
    "    times = pd.DatetimeIndex(dat_time_framed.datetime_start)\n",
    "    groupedByHours = dat_time_framed.groupby([times.month, times.day, times.hour])[\n",
    "        \"revenue_per_trip\"].agg(num_of_trips_per_hour=\"count\", revenue_per_hour_sum=\"sum\", revenue_per_hour_avg=\"mean\")\n",
    "    \n",
    "    # reset index to get time labels as column labels\n",
    "    groupedByHours.index.rename([\"month\", \"day\", \"hour\"], inplace=True)\n",
    "    groupedByHours.reset_index(inplace=True)\n",
    "    \n",
    "    # generate date column for plot labelling\n",
    "    groupedByHours[\"date\"] = \"2019-\" + groupedByHours[\"month\"].astype(str) + \"-\" +  groupedByHours[\"day\"].astype(str) + \" \" + \\\n",
    "                             groupedByHours[\"hour\"].astype(str) + \":00:00\"\n",
    "\n",
    "    # generate datetime column for checking of weekdays\n",
    "    groupedByHours[\"datetime\"] = [pd.to_datetime(d) for d in groupedByHours.date]\n",
    "\n",
    "    # check, if date is weekday (.weekday() returns 0 for a monday, and 6 for a sunday)\n",
    "    groupedByHours[\"is_weekday\"] = [dt.weekday() <= 4 for dt in groupedByHours.datetime]\n",
    "    \n",
    "    return groupedByHours\n"
   ]
  },
  {
   "cell_type": "code",
   "execution_count": 107,
   "metadata": {},
   "outputs": [],
   "source": [
    "dataBr = read_data(\"Bremen\")\n",
    "dataDu = read_data(\"Duesseldorf\")"
   ]
  },
  {
   "cell_type": "code",
   "execution_count": 117,
   "metadata": {},
   "outputs": [
    {
     "name": "stdout",
     "output_type": "stream",
     "text": [
      "      average_hourly_total_revenue  average_hourly_mean_revenue\n",
      "hour                                                           \n",
      "0                              4.0                     1.166667\n",
      "1                              1.5                     1.000000\n",
      "2                              1.0                     1.000000\n",
      "3                              1.0                     1.000000\n",
      "4                              1.0                     1.000000\n",
      "5                              4.0                     1.000000\n",
      "6                              7.5                     1.041667\n",
      "7                             17.5                     1.386957\n",
      "8                              5.5                     1.000000\n",
      "9                              2.5                     1.000000\n",
      "10                            11.0                     1.090909\n",
      "11                            13.5                     1.291667\n",
      "12                            22.0                     1.380392\n",
      "13                            14.5                     1.446078\n",
      "14                            21.0                     1.468900\n",
      "15                            13.0                     1.100000\n",
      "16                             9.5                     1.000000\n",
      "17                             8.5                     1.400000\n",
      "18                             9.5                     1.267857\n",
      "19                             4.0                     1.000000\n",
      "20                             4.0                     1.000000\n",
      "21                             3.5                     1.000000\n",
      "22                             4.0                     1.000000\n",
      "23                             7.0                     1.416667\n"
     ]
    }
   ],
   "source": [
    "bremen = generate_revenue_per_hour_for_city(dataBr, \"Bremen\", \"2019-02-01 00:00:00\", \"2019-02-02 23:59:00\")\n",
    "bremen_gr_hourly = bremen.groupby(\"hour\")[\"revenue_per_hour_sum\"].agg(average_hourly_total_revenue=\"mean\")\n",
    "bremen_gr_hourly[\"average_hourly_mean_revenue\"] = bremen.groupby(\"hour\")[\"revenue_per_hour_avg\"].agg(\"mean\")                                                                       \n",
    "print(bremen_gr_hourly.head(50))\n",
    "\n",
    "duesseldorf = generate_revenue_per_hour_for_city(dataDu, \"Duesseldorf\", \"2019-02-01 00:00:00\", \"2019-02-02 23:59:00\")\n",
    "duesseldorf_gr_hourly = duesseldorf.groupby(\"hour\")[\"revenue_per_hour_sum\"].agg(average_hourly_total_revenue=\"mean\", average_hourly_mean_revenue=\"mean\")"
   ]
  },
  {
   "cell_type": "markdown",
   "metadata": {},
   "source": [
    "## Plotting"
   ]
  },
  {
   "cell_type": "code",
   "execution_count": 125,
   "metadata": {},
   "outputs": [
    {
     "data": {
      "image/png": "[encoded data removed]",
      "text/plain": [
       "<Figure size 1080x360 with 2 Axes>"
      ]
     },
     "metadata": {},
     "output_type": "display_data"
    }
   ],
   "source": [
    "# create figure and axes\n",
    "fig1, (ax1, ax2) = plt.subplots(nrows=1, ncols=2, figsize=(15, 5))\n",
    "\n",
    "# generate scatter plots\n",
    "plot1 = sns.barplot(ax=ax1, data=bremen_gr_hourly.reset_index(), x=\"hour\", y=\"average_hourly_total_revenue\", ci=None)\n",
    "plot2 = sns.barplot(ax=ax2, data=bremen_gr_hourly.reset_index(), x=\"hour\", y=\"average_hourly_mean_revenue\", ci=None)\n",
    "\n",
    "city = \"Bremen\"\n",
    "startDate = \"2019-02-01 00:00:00\"\n",
    "endDate = \"2019-02-02 23:59:00\"\n",
    "time_interval = \"hour\"\n",
    "\n",
    "ax1.set_title(f\"Revenue/hour (sum) for {city}, averaged from {startDate} to {endDate} ({time_interval})\")\n",
    "ax2.set_title(f\"Revenue/hour (avg) for {city}, averaged from {startDate} to {endDate} ({time_interval})\")\n",
    "\n",
    "fig1.subplots_adjust(left=0.05, right=0.98, top=0.96, bottom=0.25)"
   ]
  },
  {
   "cell_type": "code",
   "execution_count": 126,
   "metadata": {},
   "outputs": [],
   "source": [
    "plt.show()"
   ]
  },
  {
   "cell_type": "code",
   "execution_count": null,
   "metadata": {},
   "outputs": [],
   "source": []
  }
 ],
 "metadata": {
  "kernelspec": {
   "display_name": "Python 3",
   "language": "python",
   "name": "python3"
  },
  "language_info": {
   "codemirror_mode": {
    "name": "ipython",
    "version": 3
   },
   "file_extension": ".py",
   "mimetype": "text/x-python",
   "name": "python",
   "nbconvert_exporter": "python",
   "pygments_lexer": "ipython3",
   "version": "3.8.3"
  }
 },
 "nbformat": 4,
 "nbformat_minor": 4
}
