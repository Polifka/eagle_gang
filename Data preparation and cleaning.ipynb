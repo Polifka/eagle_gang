{
 "cells": [
  {
   "cell_type": "markdown",
   "metadata": {},
   "source": [
    "# Data_preparation"
   ]
  },
  {
   "cell_type": "markdown",
   "metadata": {},
   "source": [
    "### import all relevant libraries\n",
    "\n",
    "* install haversine ($ pip install haversine ; https://pypi.org/project/haversine/ )\n"
   ]
  },
  {
   "cell_type": "code",
<<<<<<< HEAD
   "execution_count": 5,
=======
   "execution_count": 126,
>>>>>>> main
   "metadata": {},
   "outputs": [],
   "source": [
    "import pandas as pd\n",
    "import numpy as np\n",
    "import matplotlib.pyplot as plt\n",
    "import seaborn as sns\n",
    "\n",
    "from haversine import haversine, Unit\n",
    "\n",
    "sns.set()\n",
    "sns.set_style(\"whitegrid\")\n",
    "sns.set_palette(\"GnBu_d\")\n",
    "\n",
    "\n"
   ]
  },
  {
   "cell_type": "markdown",
   "metadata": {},
   "source": []
  },
  {
   "cell_type": "code",
   "execution_count": null,
   "metadata": {},
   "outputs": [],
   "source": []
  },
  {
   "cell_type": "markdown",
   "metadata": {},
   "source": [
    "### define readin functions:"
   ]
  },
  {
   "cell_type": "code",
<<<<<<< HEAD
   "execution_count": 6,
=======
   "execution_count": 127,
>>>>>>> main
   "metadata": {},
   "outputs": [],
   "source": [
    "def trip_data_readin (city):\n",
    "    trip_data = pd.read_csv(\"Project_Data/Trip_Data/\"+city+\".csv\", encoding = \"ISO-8859-1\")\n",
    "    trip_data = trip_data_data_prep(trip_data)\n",
    "    trip_data = merge_trip_data_with_weather_data(trip_data, city)\n",
    "    return trip_data\n",
    "\n",
    "\n",
    "def trip_data_data_prep(trip_data):\n",
    "    trip_data[\"datetime_start\"] = pd.to_datetime(trip_data['day'] + ' ' + trip_data['time'])\n",
    "    trip_data[\"trip_duration\"] = pd.to_timedelta(trip_data[\"trip_duration\"])\n",
    "    trip_data[\"datetime_end\"] = trip_data[\"datetime_start\"] + trip_data[\"trip_duration\"]\n",
    "    trip_data[\"weekday\"] = pd.to_datetime(trip_data[\"datetime_start\"]).dt.weekday\n",
    "    trip_data[\"month\"] = trip_data[\"datetime_start\"].dt.month\n",
    "    trip_data[\"hour\" ] = trip_data[\"datetime_start\"].dt.hour\n",
    "    trip_data[\"week\" ] = trip_data[\"datetime_start\"].dt.isocalendar().week\n",
    "    \n",
    "    trip_data = estimate_fleetsize(trip_data,\"week\")\n",
    "    trip_data = estimate_fleetsize(trip_data,\"day\")\n",
    "    trip_data = estimate_fleetsize(trip_data,\"month\")\n",
    "    \n",
    "    trip_data = distance_between_coordinates (trip_data)    \n",
    "    trip_data = cleaning(trip_data)\n",
    "    return trip_data\n",
    "\n",
    "def distance_between_coordinates (trip_data):\n",
    "    trip_data[\"distance\"] = trip_data.apply(lambda row: haversine((row[\"orig_lat\"], row[\"orig_lng\"]),(row[\"dest_lat\"], row[\"dest_lng\"]),Unit.KILOMETERS), axis=1) \n",
    "    return trip_data\n",
    "\n",
    "def estimate_fleetsize(trip_data, time_resolution):\n",
    "    temp = pd.DataFrame(trip_data.groupby(time_resolution)[\"b_number\"].nunique())\n",
    "    temp = temp.rename(columns={\"b_number\": \"fleetsize_\"+time_resolution+\"ly\"})\n",
    "    trip_data =pd.merge(trip_data, temp , on=time_resolution, how='left')\n",
    "    return trip_data\n",
    "\n",
    "\n",
    "\n",
    "\n",
    "def merge_trip_data_with_weather_data (trip_data, city):\n",
    "    trip_data.set_index(pd.DatetimeIndex(trip_data[\"datetime_start\"]),inplace=True)\n",
    "    weather = read_DWD_data (city)\n",
    "    trip_data[\"rounded_time_hourly\"] = trip_data[\"datetime_start\"].dt.round(\"H\")\n",
    "    combined = pd.merge(trip_data, weather , on=\"rounded_time_hourly\", how='left')\n",
    "    combined[\"wind\"] = combined['wind'].fillna(method=\"ffill\")\n",
    "    combined[\"rain\"] = combined['rain'].fillna(method=\"ffill\")\n",
    "    combined[\"temp\"] = combined['temp'].fillna(method=\"ffill\")\n",
    "    return combined\n",
    "\n",
    "\n",
    "def read_DWD_data (city):\n",
    "    \n",
    "    temp_data = pd.read_csv(\"Project_Data/Weather_Data/\"+city+\"/\"+\"data_TT_TU_MN009.csv\", encoding = \"ISO-8859-1\")\n",
    "    temp_data =temp_data.rename(columns={\"Zeitstempel\": \"rounded_time_hourly\"})\n",
    "    temp_data.set_index((pd.to_datetime(temp_data['rounded_time_hourly'].astype(str), format='%Y%m%d%H%M') ),inplace=True)\n",
    "    temp_data=temp_data.drop(['Produkt_Code', 'SDO_ID','SDO_ID','Qualitaet_Niveau','Qualitaet_Byte','rounded_time_hourly'], axis=1)\n",
    "    temp_data.columns = ['temp']\n",
    "\n",
    "\n",
    "    wind_data = pd.read_csv(\"Project_Data/Weather_Data/\"+city+\"/\"+\"data_F_MN003.csv\", encoding = \"ISO-8859-1\")\n",
    "    wind_data =wind_data.rename(columns={\"Zeitstempel\": \"rounded_time_hourly\"})\n",
    "    wind_data.set_index((pd.to_datetime(wind_data['rounded_time_hourly'].astype(str), format='%Y%m%d%H%M') ),inplace=True)\n",
    "    wind_data = wind_data.drop(['Produkt_Code', 'SDO_ID','SDO_ID','Qualitaet_Niveau','Qualitaet_Byte','rounded_time_hourly'], axis=1)\n",
    "    wind_data.columns = ['wind']\n",
    "\n",
    "    \n",
    "    rain_data = pd.read_csv(\"Project_Data/Weather_Data/\"+city+\"/\"+\"data_R1_MN008.csv\", encoding = \"ISO-8859-1\")\n",
    "    rain_data =rain_data.rename(columns={\"Zeitstempel\": \"rounded_time_hourly\"})\n",
    "    rain_data.set_index((pd.to_datetime(rain_data['rounded_time_hourly'].astype(str), format='%Y%m%d%H%M') ),inplace=True)\n",
    "    rain_data = rain_data.drop(['Produkt_Code', 'SDO_ID','SDO_ID','Qualitaet_Niveau','Qualitaet_Byte','rounded_time_hourly'], axis=1)\n",
    "    rain_data.columns = ['rain']\n",
    "    \n",
    "    \n",
    "    weather = pd.merge(temp_data, wind_data , on=\"rounded_time_hourly\", how='left')\n",
    "    weather = pd.merge(weather, rain_data , on=\"rounded_time_hourly\", how='left')\n",
    "    return weather\n"
   ]
  },
  {
   "cell_type": "markdown",
   "metadata": {},
   "source": [
    "# Data Cleaning"
   ]
  },
  {
   "cell_type": "code",
   "execution_count": 128,
   "metadata": {},
   "outputs": [],
   "source": [
    "# deleting trips with avg. speed over 25km/h\n",
    "def cleaning (trip_data):\n",
    "    trip_data[\"trip_duration_hours\"] = trip_data[\"trip_duration\"].dt.total_seconds()/3600\n",
    "    trip_data[\"avg_speed\"] = trip_data[\"distance\"]/trip_data[\"trip_duration_hours\"]\n",
    "    trip_data.drop(trip_data[trip_data[\"avg_speed\"]>25].index, axis=0, inplace=True)\n",
    "    return trip_data\n",
    "\n",
    "\n"
   ]
  },
  {
   "cell_type": "code",
   "execution_count": null,
   "metadata": {},
   "outputs": [],
   "source": []
  },
  {
   "cell_type": "code",
   "execution_count": null,
   "metadata": {},
   "outputs": [],
   "source": []
  },
  {
   "cell_type": "markdown",
   "metadata": {},
   "source": [
    "\n",
    "## Create combined Dataset\n"
   ]
  },
  {
   "cell_type": "code",
<<<<<<< HEAD
   "execution_count": 3,
=======
   "execution_count": 129,
>>>>>>> main
   "metadata": {},
   "outputs": [],
   "source": [
    "def export (city_name):\n",
    "    data_set = trip_data_readin(city_name)\n",
    "    data_set.to_csv(\"Project_Data/Combined_Data/\"+city_name+\".csv\") \n",
    "\n",
    "\n",
    "    "
   ]
  },
  {
   "cell_type": "markdown",
   "metadata": {},
   "source": [
    "## Sorting and Key Stats of data set"
   ]
  },
  {
   "cell_type": "code",
   "execution_count": 8,
   "metadata": {},
   "outputs": [
    {
     "name": "stdout",
     "output_type": "stream",
     "text": [
      "              day      time  b_number    city trip_duration   orig_lat  \\\n",
      "26294  2019-02-01  18:15:00     20728  bremen      00:15:00  53.064904   \n",
      "33161  2019-02-01  23:03:00     20799  bremen      00:11:00  53.072819   \n",
      "33160  2019-02-01  17:25:00     20799  bremen      00:07:00  53.074592   \n",
      "25746  2019-02-01  16:30:00     20724  bremen      00:07:00  53.074592   \n",
      "25745  2019-02-01  07:44:00     20724  bremen      00:07:00  53.083167   \n",
      "\n",
      "       orig_lng   dest_lat  dest_lng      datetime_start        datetime_end  \\\n",
      "26294  8.879091  53.079818  8.835600 2019-02-01 18:15:00 2019-02-01 18:30:00   \n",
      "33161  8.827893  53.080142  8.827389 2019-02-01 23:03:00 2019-02-01 23:14:00   \n",
      "33160  8.810182  53.072729  8.827655 2019-02-01 17:25:00 2019-02-01 17:32:00   \n",
      "25746  8.810182  53.083422  8.814696 2019-02-01 16:30:00 2019-02-01 16:37:00   \n",
      "25745  8.811472  53.074592  8.810182 2019-02-01 07:44:00 2019-02-01 07:51:00   \n",
      "\n",
      "       weekday  month  hour  distance rounded_time_hourly  temp  wind  rain  \n",
      "26294        4      2    18  3.345437 2019-02-01 18:00:00   0.5   3.3   0.0  \n",
      "33161        4      2    23  0.815013 2019-02-01 23:00:00  -1.7   2.9   0.0  \n",
      "33160        4      2    17  1.185499 2019-02-01 17:00:00   1.1   3.0   0.0  \n",
      "25746        4      2    16  1.027150 2019-02-01 16:00:00   1.0   3.9   0.0  \n",
      "25745        4      2     7  0.957416 2019-02-01 08:00:00  -0.5   4.7   0.0   \n",
      "\n",
      "Info: \n",
      "\n",
      "<class 'pandas.core.frame.DataFrame'>\n",
      "Int64Index: 57916 entries, 26294 to 55723\n",
      "Data columns (total 19 columns):\n",
      " #   Column               Non-Null Count  Dtype          \n",
      "---  ------               --------------  -----          \n",
      " 0   day                  57916 non-null  object         \n",
      " 1   time                 57916 non-null  object         \n",
      " 2   b_number             57916 non-null  int64          \n",
      " 3   city                 57916 non-null  object         \n",
      " 4   trip_duration        57916 non-null  timedelta64[ns]\n",
      " 5   orig_lat             57916 non-null  float64        \n",
      " 6   orig_lng             57916 non-null  float64        \n",
      " 7   dest_lat             57916 non-null  float64        \n",
      " 8   dest_lng             57916 non-null  float64        \n",
      " 9   datetime_start       57916 non-null  datetime64[ns] \n",
      " 10  datetime_end         57916 non-null  datetime64[ns] \n",
      " 11  weekday              57916 non-null  int64          \n",
      " 12  month                57916 non-null  int64          \n",
      " 13  hour                 57916 non-null  int64          \n",
      " 14  distance             57916 non-null  float64        \n",
      " 15  rounded_time_hourly  57916 non-null  datetime64[ns] \n",
      " 16  temp                 57916 non-null  float64        \n",
      " 17  wind                 44519 non-null  float64        \n",
      " 18  rain                 57916 non-null  float64        \n",
      "dtypes: datetime64[ns](3), float64(8), int64(4), object(3), timedelta64[ns](1)\n",
      "memory usage: 8.8+ MB\n",
      "None \n",
      "\n",
      "Key stats: \n",
      "                day      time      b_number    city           trip_duration  \\\n",
      "count        57916     57916  57916.000000   57916                   57916   \n",
      "unique         147      1439           NaN       1                     NaN   \n",
      "top     2019-06-14  15:50:00           NaN  bremen                     NaN   \n",
      "freq           771       120           NaN   57916                     NaN   \n",
      "first          NaN       NaN           NaN     NaN                     NaN   \n",
      "last           NaN       NaN           NaN     NaN                     NaN   \n",
      "mean           NaN       NaN  20754.447614     NaN  0 days 00:19:49.078665   \n",
      "std            NaN       NaN    142.799616     NaN  0 days 00:24:45.731632   \n",
      "min            NaN       NaN  20507.000000     NaN         0 days 00:03:00   \n",
      "25%            NaN       NaN  20627.000000     NaN         0 days 00:08:00   \n",
      "50%            NaN       NaN  20754.000000     NaN         0 days 00:13:00   \n",
      "75%            NaN       NaN  20880.000000     NaN         0 days 00:21:00   \n",
      "max            NaN       NaN  20998.000000     NaN         0 days 02:59:00   \n",
      "\n",
      "            orig_lat      orig_lng      dest_lat      dest_lng  \\\n",
      "count   57916.000000  57916.000000  57916.000000  57916.000000   \n",
      "unique           NaN           NaN           NaN           NaN   \n",
      "top              NaN           NaN           NaN           NaN   \n",
      "freq             NaN           NaN           NaN           NaN   \n",
      "first            NaN           NaN           NaN           NaN   \n",
      "last             NaN           NaN           NaN           NaN   \n",
      "mean       53.078093      8.818247     53.078068      8.818661   \n",
      "std         0.016055      0.028895      0.016190      0.029586   \n",
      "min        52.974383      8.515562     52.973818      8.515821   \n",
      "25%        53.071591      8.801344     53.071511      8.801373   \n",
      "50%        53.078567      8.812265     53.078280      8.812767   \n",
      "75%        53.084467      8.831583     53.084551      8.832472   \n",
      "max        53.559951      9.077380     53.547227      9.166203   \n",
      "\n",
      "             datetime_start         datetime_end       weekday         month  \\\n",
      "count                 57916                57916  57916.000000  57916.000000   \n",
      "unique                45586                44441           NaN           NaN   \n",
      "top     2019-06-03 08:29:00  2019-06-03 08:40:00           NaN           NaN   \n",
      "freq                     36                   36           NaN           NaN   \n",
      "first   2019-02-01 00:02:00  2019-02-01 00:14:00           NaN           NaN   \n",
      "last    2019-06-30 23:50:00  2019-07-01 00:15:00           NaN           NaN   \n",
      "mean                    NaN                  NaN      2.953122      4.455936   \n",
      "std                     NaN                  NaN      1.914876      1.339706   \n",
      "min                     NaN                  NaN      0.000000      2.000000   \n",
      "25%                     NaN                  NaN      1.000000      3.000000   \n",
      "50%                     NaN                  NaN      3.000000      5.000000   \n",
      "75%                     NaN                  NaN      5.000000      6.000000   \n",
      "max                     NaN                  NaN      6.000000      6.000000   \n",
      "\n",
      "                hour      distance  rounded_time_hourly          temp  \\\n",
      "count   57916.000000  57916.000000                57916  57916.000000   \n",
      "unique           NaN           NaN                 3359           NaN   \n",
      "top              NaN           NaN  2019-06-20 16:00:00           NaN   \n",
      "freq             NaN           NaN                   70           NaN   \n",
      "first            NaN           NaN  2019-02-01 00:00:00           NaN   \n",
      "last             NaN           NaN  2019-07-01 00:00:00           NaN   \n",
      "mean       12.960805      1.714700                  NaN     14.097572   \n",
      "std         5.242273      1.415384                  NaN      6.968630   \n",
      "min         0.000000      0.000892                  NaN     -3.200000   \n",
      "25%         9.000000      0.699735                  NaN      8.400000   \n",
      "50%        14.000000      1.416063                  NaN     13.600000   \n",
      "75%        17.000000      2.359032                  NaN     19.600000   \n",
      "max        23.000000     52.324684                  NaN     34.400000   \n",
      "\n",
      "                wind          rain  \n",
      "count   44519.000000  57916.000000  \n",
      "unique           NaN           NaN  \n",
      "top              NaN           NaN  \n",
      "freq             NaN           NaN  \n",
      "first            NaN           NaN  \n",
      "last             NaN           NaN  \n",
      "mean        3.964325      0.033445  \n",
      "std         0.841360      0.237284  \n",
      "min         2.200000      0.000000  \n",
      "25%         3.300000      0.000000  \n",
      "50%         3.900000      0.000000  \n",
      "75%         4.500000      0.000000  \n",
      "max         5.700000      7.600000   \n",
      "\n",
      "\n",
      "Key stats, day and time only: \n",
      "                day      time\n",
      "count        57916     57916\n",
      "unique         147      1439\n",
      "top     2019-06-14  15:50:00\n",
      "freq           771       120 \n",
      "\n",
      "\n",
      "Number of rows containing missing values:  13397 \n",
      "\n",
      "\n",
      "Time period of data: \n",
      "         count       first        last\n",
      "city                                 \n",
      "bremen  57916  2019-02-01  2019-06-30 \n",
      "\n",
      "\n"
     ]
    }
   ],
   "source": [
    "trip_data = trip_data_readin(\"Bremen\")\n",
    "\n",
    "# sort data by date / first column\n",
    "sortedDataBremen = trip_data.sort_values(by=['day'], axis=0)\n",
    "\n",
    "print(sortedDataBremen.head(), \"\\n\")\n",
    "print(\"Info: \\n\")\n",
    "print(sortedDataBremen.info(), \"\\n\")\n",
    "print(\"Key stats: \\n\", sortedDataBremen.describe(include='all'), \"\\n\\n\")\n",
    "print(\"Key stats, day and time only: \\n\", sortedDataBremen.loc[:,\"day\":\"time\"].describe(), \"\\n\\n\")\n",
    "\n",
    "print(\"Number of rows containing missing values: \", len(sortedDataBremen)-len(sortedDataBremen.dropna()), \"\\n\\n\")\n",
    "\n",
    "# group entries by city, aggregate on column 'day' and calculate the min and max day (time period of rows)\n",
    "groupedByCity = sortedDataBremen.groupby('city')['day'].agg(count='size', first='min', last='max')\n",
    "print(\"Time period of data: \\n\", groupedByCity, \"\\n\\n\")\n",
    "\n",
    "\n"
   ]
  },
  {
   "cell_type": "markdown",
   "metadata": {},
   "source": [
    "## Grouping and Visualization"
   ]
  },
  {
   "cell_type": "markdown",
   "metadata": {},
   "source": [
    "#### Average trip duration and total usage time per bike"
   ]
  },
  {
   "cell_type": "code",
   "execution_count": null,
   "metadata": {},
   "outputs": [
    {
     "name": "stdout",
     "output_type": "stream",
     "text": [
      "Aggregated data per bike: \n",
      "\n",
      "           num_of_trips shortest_trip longest_trip average_trip_duration  \\\n",
      "b_number                                                                  \n",
      "20507                7      00:07:00     02:23:00       00:55:51.428571   \n",
      "20508              109      00:03:00     02:58:00       00:20:25.871559   \n",
      "20509               55      00:03:00     01:22:00       00:15:13.090909   \n",
      "20510              121      00:03:00     02:10:00       00:18:37.190082   \n",
      "20511               80      00:03:00     01:33:00              00:20:21   \n",
      "...                ...           ...          ...                   ...   \n",
      "20994              117      00:03:00     02:53:00       00:19:38.974358   \n",
      "20995              187      00:03:00     02:49:00       00:24:27.272727   \n",
      "20996              190      00:03:00     02:09:00       00:14:05.368421   \n",
      "20997              231      00:03:00     02:57:00       00:18:54.025974   \n",
      "20998              163      00:03:00     02:25:00       00:19:38.282208   \n",
      "\n",
      "             total_usage  deviation_from__mean  \n",
      "b_number                                        \n",
      "20507    0 days 06:31:00           -129.917258  \n",
      "20508    1 days 13:07:00            -27.917258  \n",
      "20509    0 days 13:57:00            -81.917258  \n",
      "20510    1 days 13:33:00            -15.917258  \n",
      "20511    1 days 03:08:00            -56.917258  \n",
      "...                  ...                   ...  \n",
      "20994    1 days 14:19:00            -19.917258  \n",
      "20995    3 days 04:13:00             50.082742  \n",
      "20996    1 days 20:37:00             53.082742  \n",
      "20997    3 days 00:46:00             94.082742  \n",
      "20998    2 days 05:21:00             26.082742  \n",
      "\n",
      "[423 rows x 6 columns] \n",
      "\n",
      "\n"
     ]
    },
    {
     "name": "stderr",
     "output_type": "stream",
     "text": [
      "Locator attempting to generate 318199 ticks ([187.52083333333334, ..., 3502.0833333333335]), which exceeds Locator.MAXTICKS (1000).\n"
     ]
    }
   ],
   "source": [
    "import datetime\n",
    "import matplotlib.dates as md\n",
    "\n",
    "trip_data = trip_data_readin(\"Bremen\")\n",
    "\n",
    "# group entries by bike, count # of trips, calculate mean trip duration and calculate other key valies\n",
    "groupedByBike = sortedDataBremen['trip_duration'].groupby(sortedDataBremen['b_number']).agg(num_of_trips='count',shortest_trip='min', longest_trip='max', average_trip_duration=pd.Series.mean, total_usage=np.sum)\n",
    "groupedByBike[\"deviation_from__mean\"] = groupedByBike[\"num_of_trips\"] - groupedByBike[\"num_of_trips\"].mean()\n",
    "print(\"Aggregated data per bike: \\n\\n\", groupedByBike,\"\\n\\n\")\n",
    "\n",
    "\n",
    "# create figure and axes\n",
    "fig, (ax1, ax2) = plt.subplots(figsize=(20,10), nrows=1, ncols=2)\n",
    "\n",
    "# visualize average trip duration per bike vs # of trips\n",
    "groupedByBike['average_trip_duration'] =[(t.total_seconds()) for t in groupedByBike.average_trip_duration]\n",
    "\n",
    "\n",
    "## Set time format and the interval of ticks (every 15 minutes)\n",
    "xformatter = md.DateFormatter('%H:%M:%S')\n",
    "xlocator = md.MinuteLocator(interval = 15)\n",
    "\n",
    "## Set xtick labels to appear every 15 minutes\n",
    "ax1.xaxis.set_major_locator(xlocator)\n",
    "\n",
    "## Format xtick labels as HH:MM\n",
    "ax1.xaxis.set_major_formatter(xformatter)\n",
    "\n",
    "#ax1.set_xticks(np.linspace(start=0,stop=3,num=36))\n",
    "#ticks = ax1.get_xticks()\n",
    "#print(pd.to_datetime(ticks, unit='h').strftime('%H:%M:%S'))\n",
    "#ax1.set_xticklabels(labels = pd.to_datetime(ticks, unit='h').strftime('%H:%M:%S'), rotation=45)\n",
    "\n",
    "sns.scatterplot(ax=ax1, data=groupedByBike, x=\"average_trip_duration\" ,y=\"num_of_trips\")\n",
    "\n",
    "# visualize total usage per bike vs # of trips\n",
    "groupedByBike['total_usage'] =[(t.total_seconds()) for t in groupedByBike.total_usage]\n",
    "\n",
    "ax2.set_xticks(np.linspace(start=0,stop=10,num=120))\n",
    "ticks = ax2.get_xticks()\n",
    "ax2.set_xticklabels(labels = pd.to_datetime(ticks, unit='h').strftime('%H:%M:%S'), rotation=45)\n",
    "\n",
    "sns.scatterplot(ax=ax2, data=groupedByBike, x=\"total_usage\" ,y=\"num_of_trips\")\n",
    "\n",
    "plt.show()\n",
    "\n"
   ]
  },
  {
   "cell_type": "markdown",
   "metadata": {},
   "source": [
    "#### Other per bike data"
   ]
  },
  {
   "cell_type": "code",
   "execution_count": 1,
   "metadata": {},
   "outputs": [
    {
     "data": {
      "image/png": "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\n",
      "text/plain": [
       "<Figure size 432x288 with 1 Axes>"
      ]
     },
     "metadata": {
      "needs_background": "light"
     },
     "output_type": "display_data"
    }
   ],
   "source": [
    "import matplotlib.pyplot as plt\n",
    "import matplotlib.dates as md\n",
    "import datetime as dt\n",
    "\n",
    "## Dummy times and temperatures\n",
    "time = [dt.datetime(2017,2,15,4,40),dt.datetime(2017,2,15,4,46),dt.datetime(2017,2,15,4,52),dt.datetime(2017,2,15,4,58),dt.datetime(2017,2,15,5,4),dt.datetime(2017,2,15,5,10)]\n",
    "temp = [7, 8, 9, 10, 11, 12]\n",
    "\n",
    "## Plot the data\n",
    "figtemp, ax = plt.subplots(1, 1)\n",
    "ax.plot(time, temp)\n",
    "\n",
    "## Set time format and the interval of ticks (every 15 minutes)\n",
    "xformatter = md.DateFormatter('%H:%M')\n",
    "xlocator = md.MinuteLocator(interval = 15)\n",
    "\n",
    "## Set xtick labels to appear every 15 minutes\n",
    "ax.xaxis.set_major_locator(xlocator)\n",
    "\n",
    "## Format xtick labels as HH:MM\n",
    "plt.gcf().axes[0].xaxis.set_major_formatter(xformatter)"
   ]
  },
  {
   "cell_type": "code",
   "execution_count": 52,
   "metadata": {},
   "outputs": [
    {
     "name": "stdout",
     "output_type": "stream",
     "text": [
      "Aggregated data per bike: \n",
      "\n",
      "           num_of_trips shortest_trip longest_trip  average_trip_duration  \\\n",
      "b_number                                                                   \n",
      "20507                7      00:07:00     02:23:00            3351.428571   \n",
      "20508              109      00:03:00     02:58:00            1225.871560   \n",
      "20509               55      00:03:00     01:22:00             913.090909   \n",
      "20510              121      00:03:00     02:10:00            1117.190083   \n",
      "20511               80      00:03:00     01:33:00            1221.000000   \n",
      "...                ...           ...          ...                    ...   \n",
      "20994              117      00:03:00     02:53:00            1178.974359   \n",
      "20995              187      00:03:00     02:49:00            1467.272727   \n",
      "20996              190      00:03:00     02:09:00             845.368421   \n",
      "20997              231      00:03:00     02:57:00            1134.025974   \n",
      "20998              163      00:03:00     02:25:00            1178.282209   \n",
      "\n",
      "          total_usage  deviation_from__mean  dev_from_#trips_mean  \n",
      "b_number                                                           \n",
      "20507         23460.0           -129.917258           -129.917258  \n",
      "20508        133620.0            -27.917258            -27.917258  \n",
      "20509         50220.0            -81.917258            -81.917258  \n",
      "20510        135180.0            -15.917258            -15.917258  \n",
      "20511         97680.0            -56.917258            -56.917258  \n",
      "...               ...                   ...                   ...  \n",
      "20994        137940.0            -19.917258            -19.917258  \n",
      "20995        274380.0             50.082742             50.082742  \n",
      "20996        160620.0             53.082742             53.082742  \n",
      "20997        261960.0             94.082742             94.082742  \n",
      "20998        192060.0             26.082742             26.082742  \n",
      "\n",
      "[423 rows x 7 columns] \n",
      "\n",
      "\n"
     ]
    },
    {
     "ename": "AttributeError",
     "evalue": "'float' object has no attribute 'total_seconds'",
     "output_type": "error",
     "traceback": [
      "\u001b[1;31m---------------------------------------------------------------------------\u001b[0m",
      "\u001b[1;31mAttributeError\u001b[0m                            Traceback (most recent call last)",
      "\u001b[1;32m<ipython-input-52-bf44ed257b58>\u001b[0m in \u001b[0;36m<module>\u001b[1;34m\u001b[0m\n\u001b[0;32m     10\u001b[0m \u001b[1;33m\u001b[0m\u001b[0m\n\u001b[0;32m     11\u001b[0m \u001b[1;31m# visualize average trip duration per bike vs # of trips\u001b[0m\u001b[1;33m\u001b[0m\u001b[1;33m\u001b[0m\u001b[1;33m\u001b[0m\u001b[0m\n\u001b[1;32m---> 12\u001b[1;33m \u001b[0mgroupedByBike\u001b[0m\u001b[1;33m[\u001b[0m\u001b[1;34m'average_trip_duration'\u001b[0m\u001b[1;33m]\u001b[0m \u001b[1;33m=\u001b[0m\u001b[1;33m[\u001b[0m\u001b[1;33m(\u001b[0m\u001b[0mt\u001b[0m\u001b[1;33m.\u001b[0m\u001b[0mtotal_seconds\u001b[0m\u001b[1;33m(\u001b[0m\u001b[1;33m)\u001b[0m\u001b[1;33m)\u001b[0m \u001b[1;32mfor\u001b[0m \u001b[0mt\u001b[0m \u001b[1;32min\u001b[0m \u001b[0mgroupedByBike\u001b[0m\u001b[1;33m.\u001b[0m\u001b[0maverage_trip_duration\u001b[0m\u001b[1;33m]\u001b[0m\u001b[1;33m\u001b[0m\u001b[1;33m\u001b[0m\u001b[0m\n\u001b[0m\u001b[0;32m     13\u001b[0m \u001b[0mticks\u001b[0m \u001b[1;33m=\u001b[0m \u001b[0max1\u001b[0m\u001b[1;33m.\u001b[0m\u001b[0mget_xticks\u001b[0m\u001b[1;33m(\u001b[0m\u001b[1;33m)\u001b[0m\u001b[1;33m\u001b[0m\u001b[1;33m\u001b[0m\u001b[0m\n\u001b[0;32m     14\u001b[0m \u001b[0max1\u001b[0m\u001b[1;33m.\u001b[0m\u001b[0mset_xticklabels\u001b[0m\u001b[1;33m(\u001b[0m\u001b[0mpd\u001b[0m\u001b[1;33m.\u001b[0m\u001b[0mto_datetime\u001b[0m\u001b[1;33m(\u001b[0m\u001b[0mticks\u001b[0m\u001b[1;33m,\u001b[0m \u001b[0munit\u001b[0m\u001b[1;33m=\u001b[0m\u001b[1;34m'h'\u001b[0m\u001b[1;33m)\u001b[0m\u001b[1;33m.\u001b[0m\u001b[0mstrftime\u001b[0m\u001b[1;33m(\u001b[0m\u001b[1;34m'%H:%M:%S'\u001b[0m\u001b[1;33m)\u001b[0m\u001b[1;33m)\u001b[0m\u001b[1;33m\u001b[0m\u001b[1;33m\u001b[0m\u001b[0m\n",
      "\u001b[1;32m<ipython-input-52-bf44ed257b58>\u001b[0m in \u001b[0;36m<listcomp>\u001b[1;34m(.0)\u001b[0m\n\u001b[0;32m     10\u001b[0m \u001b[1;33m\u001b[0m\u001b[0m\n\u001b[0;32m     11\u001b[0m \u001b[1;31m# visualize average trip duration per bike vs # of trips\u001b[0m\u001b[1;33m\u001b[0m\u001b[1;33m\u001b[0m\u001b[1;33m\u001b[0m\u001b[0m\n\u001b[1;32m---> 12\u001b[1;33m \u001b[0mgroupedByBike\u001b[0m\u001b[1;33m[\u001b[0m\u001b[1;34m'average_trip_duration'\u001b[0m\u001b[1;33m]\u001b[0m \u001b[1;33m=\u001b[0m\u001b[1;33m[\u001b[0m\u001b[1;33m(\u001b[0m\u001b[0mt\u001b[0m\u001b[1;33m.\u001b[0m\u001b[0mtotal_seconds\u001b[0m\u001b[1;33m(\u001b[0m\u001b[1;33m)\u001b[0m\u001b[1;33m)\u001b[0m \u001b[1;32mfor\u001b[0m \u001b[0mt\u001b[0m \u001b[1;32min\u001b[0m \u001b[0mgroupedByBike\u001b[0m\u001b[1;33m.\u001b[0m\u001b[0maverage_trip_duration\u001b[0m\u001b[1;33m]\u001b[0m\u001b[1;33m\u001b[0m\u001b[1;33m\u001b[0m\u001b[0m\n\u001b[0m\u001b[0;32m     13\u001b[0m \u001b[0mticks\u001b[0m \u001b[1;33m=\u001b[0m \u001b[0max1\u001b[0m\u001b[1;33m.\u001b[0m\u001b[0mget_xticks\u001b[0m\u001b[1;33m(\u001b[0m\u001b[1;33m)\u001b[0m\u001b[1;33m\u001b[0m\u001b[1;33m\u001b[0m\u001b[0m\n\u001b[0;32m     14\u001b[0m \u001b[0max1\u001b[0m\u001b[1;33m.\u001b[0m\u001b[0mset_xticklabels\u001b[0m\u001b[1;33m(\u001b[0m\u001b[0mpd\u001b[0m\u001b[1;33m.\u001b[0m\u001b[0mto_datetime\u001b[0m\u001b[1;33m(\u001b[0m\u001b[0mticks\u001b[0m\u001b[1;33m,\u001b[0m \u001b[0munit\u001b[0m\u001b[1;33m=\u001b[0m\u001b[1;34m'h'\u001b[0m\u001b[1;33m)\u001b[0m\u001b[1;33m.\u001b[0m\u001b[0mstrftime\u001b[0m\u001b[1;33m(\u001b[0m\u001b[1;34m'%H:%M:%S'\u001b[0m\u001b[1;33m)\u001b[0m\u001b[1;33m)\u001b[0m\u001b[1;33m\u001b[0m\u001b[1;33m\u001b[0m\u001b[0m\n",
      "\u001b[1;31mAttributeError\u001b[0m: 'float' object has no attribute 'total_seconds'"
     ]
    },
    {
     "data": {
      "image/png": "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\n",
      "text/plain": [
       "<Figure size 1440x720 with 2 Axes>"
      ]
     },
     "metadata": {},
     "output_type": "display_data"
    }
   ],
   "source": [
    "trip_data = trip_data_readin(\"Bremen\")\n",
    "\n",
    "# group entries by bike, count # of trips, calculate mean trip duration and calculate other key valies\n",
    "groupedByBike[\"dev_from_#trips_mean\"] = groupedByBike[\"num_of_trips\"] - groupedByBike[\"num_of_trips\"].mean()\n",
    "print(\"Aggregated data per bike: \\n\\n\", groupedByBike,\"\\n\\n\")\n",
    "\n",
    "\n",
    "# create figure and axes\n",
    "fig, (ax1, ax2) = plt.subplots(figsize=(20,10), nrows=1, ncols=2)\n",
    "\n",
    "# visualize average trip duration per bike vs # of trips\n",
    "groupedByBike['average_trip_duration'] =[(t.total_seconds()) for t in groupedByBike.average_trip_duration]\n",
    "ticks = ax1.get_xticks()\n",
    "ax1.set_xticklabels(pd.to_datetime(ticks, unit='h').strftime('%H:%M:%S'))\n",
    "sns.scatterplot(ax=ax1, data=groupedByBike, x=\"average_trip_duration\" ,y=\"num_of_trips\")\n",
    "\n",
    "# visualize total usage per bike vs # of trips\n",
    "groupedByBike['total_usage'] =[(t.total_seconds()) for t in groupedByBike.total_usage]\n",
    "ticks = ax2.get_xticks()\n",
    "ax2.set_xticklabels(pd.to_datetime(ticks, unit='h').strftime('%H:%M:%S'))\n",
    "sns.scatterplot(ax=ax2, data=groupedByBike, x=\"total_usage\" ,y=\"num_of_trips\")\n",
    "\n",
    "plt.show()\n",
    "\n"
   ]
  },
  {
   "cell_type": "code",
   "execution_count": 130,
   "metadata": {},
   "outputs": [],
   "source": [
    "# execute only in case of new data updates #\n",
    "\n",
    "export (\"duesseldorf\")\n",
    "export (\"bremen\")\n"
   ]
  },
  {
   "cell_type": "code",
   "execution_count": 131,
   "metadata": {},
   "outputs": [],
   "source": [
    "data_set = trip_data_readin(\"bremen\") \n",
    "\n"
   ]
  },
  {
   "cell_type": "code",
   "execution_count": 132,
   "metadata": {},
   "outputs": [
    {
     "name": "stdout",
     "output_type": "stream",
     "text": [
      "<class 'pandas.core.frame.DataFrame'>\n",
      "Int64Index: 57894 entries, 0 to 57893\n",
      "Data columns (total 25 columns):\n",
      " #   Column               Non-Null Count  Dtype          \n",
      "---  ------               --------------  -----          \n",
      " 0   day                  57894 non-null  object         \n",
      " 1   time                 57894 non-null  object         \n",
      " 2   b_number             57894 non-null  int64          \n",
      " 3   city                 57894 non-null  object         \n",
      " 4   trip_duration        57894 non-null  timedelta64[ns]\n",
      " 5   orig_lat             57894 non-null  float64        \n",
      " 6   orig_lng             57894 non-null  float64        \n",
      " 7   dest_lat             57894 non-null  float64        \n",
      " 8   dest_lng             57894 non-null  float64        \n",
      " 9   datetime_start       57894 non-null  datetime64[ns] \n",
      " 10  datetime_end         57894 non-null  datetime64[ns] \n",
      " 11  weekday              57894 non-null  int64          \n",
      " 12  month                57894 non-null  int64          \n",
      " 13  hour                 57894 non-null  int64          \n",
      " 14  week                 57894 non-null  object         \n",
      " 15  fleetsize_weekly     57894 non-null  int64          \n",
      " 16  fleetsize_dayly      57894 non-null  int64          \n",
      " 17  fleetsize_monthly    57894 non-null  int64          \n",
      " 18  distance             57894 non-null  float64        \n",
      " 19  trip_duration_hours  57894 non-null  float64        \n",
      " 20  avg_speed            57894 non-null  float64        \n",
      " 21  rounded_time_hourly  57894 non-null  datetime64[ns] \n",
      " 22  temp                 57894 non-null  float64        \n",
      " 23  wind                 57894 non-null  float64        \n",
      " 24  rain                 57894 non-null  float64        \n",
      "dtypes: datetime64[ns](3), float64(10), int64(7), object(4), timedelta64[ns](1)\n",
      "memory usage: 11.5+ MB\n"
     ]
    }
   ],
   "source": [
    "data_set.info()"
   ]
  },
  {
   "cell_type": "code",
   "execution_count": null,
   "metadata": {},
   "outputs": [],
   "source": []
  },
  {
   "cell_type": "code",
   "execution_count": null,
   "metadata": {},
   "outputs": [],
   "source": []
  }
 ],
 "metadata": {
  "kernelspec": {
   "display_name": "Python 3",
   "language": "python",
   "name": "python3"
  },
  "language_info": {
   "codemirror_mode": {
    "name": "ipython",
    "version": 3
   },
   "file_extension": ".py",
   "mimetype": "text/x-python",
   "name": "python",
   "nbconvert_exporter": "python",
   "pygments_lexer": "ipython3",
   "version": "3.8.3"
  }
 },
 "nbformat": 4,
 "nbformat_minor": 4
}
